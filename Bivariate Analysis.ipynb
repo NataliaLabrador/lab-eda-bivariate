{
 "cells": [
  {
   "cell_type": "code",
   "execution_count": null,
   "metadata": {},
   "outputs": [],
   "source": [
    "import pandas as pd\n",
    "import matplotlib.pyplot as plt\n",
    "import seaborn as sns\n",
    "import numpy as np\n",
    "import statsmodels.api as sm\n",
    "\n",
    "%matplotlib inline"
   ]
  },
  {
   "cell_type": "code",
   "execution_count": null,
   "metadata": {},
   "outputs": [],
   "source": [
    "df = pd.read_csv(\"C:/Users/evacv/Documents/bootcamp Data analysis/archive/amz_uk_price_prediction_dataset.csv\")"
   ]
  },
  {
   "cell_type": "markdown",
   "metadata": {},
   "source": [
    " Part 1: Analyzing Best-Seller Trends Across Product Categories\n",
    "**Objective**: Understand the relationship between product categories and their best-seller status.\n",
    "1. **Crosstab Analysis**:\n",
    "Create a crosstab between the product `category` and the `isBestSeller` status.\n",
    "Are there categories where being a best-seller is more prevalent?"
   ]
  },
  {
   "cell_type": "code",
   "execution_count": null,
   "metadata": {},
   "outputs": [],
   "source": [
    "crosstab_result = pd.crosstab(df['category'], df['isBestSeller'])\n",
    "crosstab_result"
   ]
  },
  {
   "cell_type": "markdown",
   "metadata": {},
   "source": [
    "2. **Statistical Tests**:\n",
    "    - Conduct a Chi-square test to determine if the best-seller distribution is independent of the product category.\n",
    "    - Compute Cramér's V to understand the strength of association between best-seller status and category."
   ]
  },
  {
   "cell_type": "code",
   "execution_count": null,
   "metadata": {},
   "outputs": [],
   "source": [
    "from scipy.stats import chi2_contingency\n",
    "\n",
    "# Chi-square test for 'MSZoning' and 'SaleCondition'\n",
    "chi2_statistic, chi2_p_value, _, _ = chi2_contingency(crosstab_result)\n",
    "\n",
    "chi2_statistic, chi2_p_value"
   ]
  },
  {
   "cell_type": "markdown",
   "metadata": {},
   "source": [
    "3. **Visualizations**:\n",
    "\t- Visualize the relationship between product categories and the best-seller status using a stacked bar chart."
   ]
  },
  {
   "cell_type": "code",
   "execution_count": null,
   "metadata": {},
   "outputs": [],
   "source": [
    "plt.figure(figsize=(10, 6))\n",
    "crosstab_result.plot(kind='bar', stacked=True)\n",
    "plt.title('Relación entre Categorías de Productos y Estado de Mejor Vendedor')\n",
    "plt.xlabel('Categoría de Producto')\n",
    "plt.ylabel('Cantidad de Productos')\n",
    "plt.xticks(rotation=45)\n",
    "plt.legend(title='isBestSeller', loc='upper right')\n",
    "plt.show()"
   ]
  },
  {
   "cell_type": "markdown",
   "metadata": {},
   "source": [
    "### Part 2: Exploring Product Prices and Ratings Across Categories and Brands\n",
    "\n",
    "**Objective**: Investigate how different product categories influence product prices.\n",
    "\n",
    "0. **Preliminary Step: Remove outliers in product prices.**\n",
    "\n",
    "\tFor this purpose, we can use the IQR (Interquartile Range) method. Products priced below the first quartile minus 1.5 times the IQR or above the third quartile plus 1.5 times the IQR will be considered outliers and removed from the dataset. The next steps will be done with the dataframe without outliers.\n",
    "\t\n",
    "\t*Hint: you can check the last Check For Understanding at the end of the lesson EDA Bivariate Analysis for a hint on how to do this.*\n",
    "\n",
    "\n",
    "\n",
    "\n"
   ]
  },
  {
   "cell_type": "code",
   "execution_count": null,
   "metadata": {},
   "outputs": [],
   "source": [
    "Q1 = df['price'].quantile(0.25)\n",
    "Q3 = df['price'].quantile(0.75)\n",
    "IQR = Q3 - Q1\n",
    "\n",
    "# Define lower and upper bounds\n",
    "lower_bound = Q1 - 1.5 * IQR\n",
    "upper_bound = Q3 + 1.5 * IQR\n",
    "\n",
    "# Filter out outliers\n",
    "df_no_outliers = df[(df['price'] >= lower_bound) & (df['price'] <= upper_bound)]\n",
    "df_no_outliers"
   ]
  },
  {
   "cell_type": "markdown",
   "metadata": {},
   "source": [
    "1. **Violin Plots**:\n",
    "    - Use a violin plot to visualize the distribution of `price` across different product `categories`. Filter out the top 20 categories based on count for better visualization.\n",
    "    - Which product category tends to have the highest median price? Don't filter here by top categories.\n"
   ]
  },
  {
   "cell_type": "code",
   "execution_count": null,
   "metadata": {},
   "outputs": [],
   "source": [
    "top_categories = df['category'].value_counts().head(20).index\n",
    "df_top_categories = df[df['category'].isin(top_categories)]\n",
    "\n",
    "plt.figure(figsize=(12, 8))\n",
    "sns.violinplot(x='category', y='price', data=df_top_categories)\n",
    "plt.title('Distribution of Price Across Different Product Categories')\n",
    "plt.xlabel('Product Category')\n",
    "plt.ylabel('Price')\n",
    "plt.xticks(rotation=90)\n",
    "plt.show()\n",
    "\n",
    "\n",
    "\n"
   ]
  },
  {
   "cell_type": "code",
   "execution_count": null,
   "metadata": {},
   "outputs": [],
   "source": [
    "highest_median_category = df.groupby('category')['price'].median().idxmax()\n",
    "print(\"Product category with the highest median price:\", highest_median_category)"
   ]
  },
  {
   "cell_type": "markdown",
   "metadata": {},
   "source": [
    "2. **Bar Charts**:\n",
    "    - Create a bar chart comparing the average price of products for the top 10 product categories (based on count).\n",
    "    - Which product category commands the highest average price? Don't filter here by top categories."
   ]
  },
  {
   "cell_type": "code",
   "execution_count": null,
   "metadata": {},
   "outputs": [],
   "source": [
    "top_10_categories = df['category'].value_counts().nlargest(10).index\n",
    "df_top_10_categories = df[df['category'].isin(top_10_categories)]\n",
    "\n",
    "# Calculate the average price for each category\n",
    "average_prices = df_top_10_categories.groupby('category')['price'].mean().sort_values(ascending=False)\n",
    "\n",
    "# Create a bar chart\n",
    "plt.figure(figsize=(10, 6))\n",
    "average_prices.plot(kind='bar', color='skyblue')\n",
    "plt.title('Average Price of Products for Top 10 Product Categories')\n",
    "plt.xlabel('Product Category')\n",
    "plt.ylabel('Average Price')\n",
    "plt.xticks(rotation=45)\n",
    "plt.show()"
   ]
  },
  {
   "cell_type": "code",
   "execution_count": null,
   "metadata": {},
   "outputs": [],
   "source": [
    "average_price_by_category = df.groupby('category')['price'].mean()\n",
    "\n",
    "# Encontrar la categoría con el precio promedio más alto\n",
    "category_with_highest_avg_price = average_price_by_category.idxmax()\n",
    "highest_avg_price = average_price_by_category.max()\n",
    "\n",
    "print(\"Product category with the highest average price:\", category_with_highest_avg_price)\n",
    "print(\"Highest average price:\", highest_avg_price)"
   ]
  },
  {
   "cell_type": "markdown",
   "metadata": {},
   "source": [
    "3. **Box Plots**:\n",
    "    - Visualize the distribution of product `ratings` based on their `category` using side-by-side box plots. Filter out the top 10 categories based on count for better visualization.\n",
    "    - Which category tends to receive the highest median rating from customers? Don't filter here by top categories."
   ]
  },
  {
   "cell_type": "code",
   "execution_count": null,
   "metadata": {},
   "outputs": [],
   "source": [
    "top_10_categories = df['category'].value_counts().nlargest(10).index\n",
    "df_top_10_categories = df[df['category'].isin(top_10_categories)]\n",
    "\n",
    "# Crear diagramas de caja lado a lado\n",
    "plt.figure(figsize=(12, 8))\n",
    "sns.boxplot(x='category', y='stars', data=df_top_10_categories, palette='Set3')\n",
    "plt.title('Distribution of Product Ratings Across Top 10 Product Categories')\n",
    "plt.xlabel('Product Category')\n",
    "plt.ylabel('Rating')\n",
    "plt.xticks(rotation=45)\n",
    "plt.show()\n",
    "\n",
    "# Identificar la categoría que tiende a recibir la calificación mediana más alta\n",
    "highest_median_rating_category = df.groupby('category')['stars'].median().idxmax()\n",
    "print(\"Category that tends to receive the highest median stars:\", highest_median_rating_category)"
   ]
  },
  {
   "cell_type": "markdown",
   "metadata": {},
   "source": [
    "### Part 3: Investigating the Interplay Between Product Prices and Ratings\n",
    "\n",
    "**Objective**: Analyze how product ratings (`stars`) correlate with product prices.\n",
    "\n",
    "1. **Correlation Coefficients**:\n",
    "    - Calculate the correlation coefficient between `price` and `stars`.\n",
    "    - Is there a significant correlation between product price and its rating?\n",
    "\t\n"
   ]
  },
  {
   "cell_type": "code",
   "execution_count": null,
   "metadata": {},
   "outputs": [],
   "source": [
    "correlation_coefficient = df['price'].corr(df['stars'])\n",
    "\n",
    "# Mostrar el coeficiente de correlación\n",
    "print(\"Correlation coefficient between price and stars:\", correlation_coefficient)"
   ]
  },
  {
   "cell_type": "markdown",
   "metadata": {},
   "source": [
    "#El coeficiente de correlación de Pearson calculado entre el precio y las calificaciones es aproximadamente -0.125. Un coeficiente de correlación negativo indica una relación inversa \n",
    "#entre las dos variables, lo que sugiere que a medida que el precio aumenta, las calificaciones tienden a disminuir, y viceversa. Sin embargo, la magnitud del coeficiente es relativamente \n",
    "#baja, lo que sugiere una correlación débil entre el precio y las calificaciones."
   ]
  },
  {
   "cell_type": "markdown",
   "metadata": {},
   "source": [
    "2. **Visualizations**:\n",
    "    - Use a scatter plot to visualize the relationship between product rating and price. What patterns can you observe?\n",
    "    "
   ]
  },
  {
   "cell_type": "code",
   "execution_count": null,
   "metadata": {},
   "outputs": [],
   "source": [
    "plt.figure(figsize=(10, 6))\n",
    "sns.scatterplot(x='stars', y='price', data=df)\n",
    "plt.title('Relationship between Product Rating and Price')\n",
    "plt.xlabel('Product Rating')\n",
    "plt.ylabel('Price')\n",
    "plt.show()"
   ]
  },
  {
   "cell_type": "markdown",
   "metadata": {},
   "source": [
    "- Use a correlation heatmap to visualize correlations between all numerical variables.\n",
    "  "
   ]
  },
  {
   "cell_type": "code",
   "execution_count": null,
   "metadata": {},
   "outputs": [],
   "source": [
    "df_numerical = df.select_dtypes(include=['int64', 'float64'])\n",
    "\n",
    "# Calcular la matriz de correlación para las variables numéricas\n",
    "correlation_matrix = df_numerical.corr()\n",
    "\n",
    "# Configurar la figura de matplotlib con un tamaño adecuado\n",
    "plt.figure(figsize=(18, 15))\n",
    "\n",
    "# Dibujar el heatmap para las columnas numéricas\n",
    "sns.heatmap(correlation_matrix, annot=True, cmap=\"coolwarm\")\n",
    "\n",
    "plt.title(\"Correlation Heatmap for Numerical Variables\")\n",
    "plt.show()\n"
   ]
  },
  {
   "cell_type": "markdown",
   "metadata": {},
   "source": [
    "  - Examine if product prices typically follow a normal distribution using a QQ plot. "
   ]
  },
  {
   "cell_type": "code",
   "execution_count": null,
   "metadata": {},
   "outputs": [],
   "source": [
    "sm.qqplot(df['price'], line ='s')\n",
    "\n",
    "\n",
    "plt.title(\"QQ Plot for Product Prices\")\n",
    "plt.xlabel(\"Theoretical Quantiles\")\n",
    "plt.ylabel(\"Sample Quantiles\")\n",
    "plt.show()"
   ]
  }
 ],
 "metadata": {
  "kernelspec": {
   "display_name": "base",
   "language": "python",
   "name": "python3"
  },
  "language_info": {
   "codemirror_mode": {
    "name": "ipython",
    "version": 3
   },
   "file_extension": ".py",
   "mimetype": "text/x-python",
   "name": "python",
   "nbconvert_exporter": "python",
   "pygments_lexer": "ipython3",
   "version": "3.11.7"
  }
 },
 "nbformat": 4,
 "nbformat_minor": 2
}
