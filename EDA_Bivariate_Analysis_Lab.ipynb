{
 "cells": [
  {
   "cell_type": "code",
   "execution_count": null,
   "metadata": {},
   "outputs": [],
   "source": [
    "# Lab - EDA Bivariate Analysis: Diving into Amazon UK Product Insights Part II"
   ]
  },
  {
   "cell_type": "code",
   "execution_count": 54,
   "metadata": {},
   "outputs": [],
   "source": [
    "# Import necessary libraries\n",
    "import pandas as pd\n",
    "import matplotlib.pyplot as plt\n",
    "import seaborn as sns\n",
    "import numpy as np\n",
    "from scipy.stats import chi2_contingency\n",
    "from scipy.stats.contingency import association\n",
    "import statsmodels.api as sm\n",
    "\n",
    "%matplotlib inline"
   ]
  },
  {
   "cell_type": "code",
   "execution_count": 10,
   "metadata": {},
   "outputs": [],
   "source": [
    "# Loading the Amazon UK product dataset\n",
    "archivo = \"/Users/natalialabrador/Desktop/Ironhack/Labs/20. lab-eda-bivariate/amz_uk_price_prediction_dataset.csv\"\n",
    "df = pd.read_csv(archivo)\n"
   ]
  },
  {
   "cell_type": "code",
   "execution_count": 11,
   "metadata": {},
   "outputs": [
    {
     "data": {
      "text/html": [
       "<div>\n",
       "<style scoped>\n",
       "    .dataframe tbody tr th:only-of-type {\n",
       "        vertical-align: middle;\n",
       "    }\n",
       "\n",
       "    .dataframe tbody tr th {\n",
       "        vertical-align: top;\n",
       "    }\n",
       "\n",
       "    .dataframe thead th {\n",
       "        text-align: right;\n",
       "    }\n",
       "</style>\n",
       "<table border=\"1\" class=\"dataframe\">\n",
       "  <thead>\n",
       "    <tr style=\"text-align: right;\">\n",
       "      <th></th>\n",
       "      <th>uid</th>\n",
       "      <th>asin</th>\n",
       "      <th>title</th>\n",
       "      <th>stars</th>\n",
       "      <th>reviews</th>\n",
       "      <th>price</th>\n",
       "      <th>isBestSeller</th>\n",
       "      <th>boughtInLastMonth</th>\n",
       "      <th>category</th>\n",
       "    </tr>\n",
       "  </thead>\n",
       "  <tbody>\n",
       "    <tr>\n",
       "      <th>0</th>\n",
       "      <td>1</td>\n",
       "      <td>B09B96TG33</td>\n",
       "      <td>Echo Dot (5th generation, 2022 release) | Big ...</td>\n",
       "      <td>4.7</td>\n",
       "      <td>15308</td>\n",
       "      <td>21.99</td>\n",
       "      <td>False</td>\n",
       "      <td>0</td>\n",
       "      <td>Hi-Fi Speakers</td>\n",
       "    </tr>\n",
       "    <tr>\n",
       "      <th>1</th>\n",
       "      <td>2</td>\n",
       "      <td>B01HTH3C8S</td>\n",
       "      <td>Anker Soundcore mini, Super-Portable Bluetooth...</td>\n",
       "      <td>4.7</td>\n",
       "      <td>98099</td>\n",
       "      <td>23.99</td>\n",
       "      <td>True</td>\n",
       "      <td>0</td>\n",
       "      <td>Hi-Fi Speakers</td>\n",
       "    </tr>\n",
       "    <tr>\n",
       "      <th>2</th>\n",
       "      <td>3</td>\n",
       "      <td>B09B8YWXDF</td>\n",
       "      <td>Echo Dot (5th generation, 2022 release) | Big ...</td>\n",
       "      <td>4.7</td>\n",
       "      <td>15308</td>\n",
       "      <td>21.99</td>\n",
       "      <td>False</td>\n",
       "      <td>0</td>\n",
       "      <td>Hi-Fi Speakers</td>\n",
       "    </tr>\n",
       "    <tr>\n",
       "      <th>3</th>\n",
       "      <td>4</td>\n",
       "      <td>B09B8T5VGV</td>\n",
       "      <td>Echo Dot with clock (5th generation, 2022 rele...</td>\n",
       "      <td>4.7</td>\n",
       "      <td>7205</td>\n",
       "      <td>31.99</td>\n",
       "      <td>False</td>\n",
       "      <td>0</td>\n",
       "      <td>Hi-Fi Speakers</td>\n",
       "    </tr>\n",
       "    <tr>\n",
       "      <th>4</th>\n",
       "      <td>5</td>\n",
       "      <td>B09WX6QD65</td>\n",
       "      <td>Introducing Echo Pop | Full sound compact Wi-F...</td>\n",
       "      <td>4.6</td>\n",
       "      <td>1881</td>\n",
       "      <td>17.99</td>\n",
       "      <td>False</td>\n",
       "      <td>0</td>\n",
       "      <td>Hi-Fi Speakers</td>\n",
       "    </tr>\n",
       "  </tbody>\n",
       "</table>\n",
       "</div>"
      ],
      "text/plain": [
       "   uid        asin                                              title  stars  \\\n",
       "0    1  B09B96TG33  Echo Dot (5th generation, 2022 release) | Big ...    4.7   \n",
       "1    2  B01HTH3C8S  Anker Soundcore mini, Super-Portable Bluetooth...    4.7   \n",
       "2    3  B09B8YWXDF  Echo Dot (5th generation, 2022 release) | Big ...    4.7   \n",
       "3    4  B09B8T5VGV  Echo Dot with clock (5th generation, 2022 rele...    4.7   \n",
       "4    5  B09WX6QD65  Introducing Echo Pop | Full sound compact Wi-F...    4.6   \n",
       "\n",
       "   reviews  price  isBestSeller  boughtInLastMonth        category  \n",
       "0    15308  21.99         False                  0  Hi-Fi Speakers  \n",
       "1    98099  23.99          True                  0  Hi-Fi Speakers  \n",
       "2    15308  21.99         False                  0  Hi-Fi Speakers  \n",
       "3     7205  31.99         False                  0  Hi-Fi Speakers  \n",
       "4     1881  17.99         False                  0  Hi-Fi Speakers  "
      ]
     },
     "execution_count": 11,
     "metadata": {},
     "output_type": "execute_result"
    }
   ],
   "source": [
    "# Display the first few rows of the dataset\n",
    "df.head()"
   ]
  },
  {
   "cell_type": "code",
   "execution_count": 12,
   "metadata": {},
   "outputs": [
    {
     "data": {
      "text/plain": [
       "(2443651, 9)"
      ]
     },
     "execution_count": 12,
     "metadata": {},
     "output_type": "execute_result"
    }
   ],
   "source": [
    "# Retrieving the number of rows and columns in the dataframe\n",
    "df.shape"
   ]
  },
  {
   "cell_type": "code",
   "execution_count": 13,
   "metadata": {},
   "outputs": [
    {
     "data": {
      "text/plain": [
       "uid                    int64\n",
       "asin                  object\n",
       "title                 object\n",
       "stars                float64\n",
       "reviews                int64\n",
       "price                float64\n",
       "isBestSeller            bool\n",
       "boughtInLastMonth      int64\n",
       "category              object\n",
       "dtype: object"
      ]
     },
     "execution_count": 13,
     "metadata": {},
     "output_type": "execute_result"
    }
   ],
   "source": [
    "# Displaying the data types of each column in the dataframe\n",
    "df.dtypes"
   ]
  },
  {
   "cell_type": "code",
   "execution_count": 14,
   "metadata": {},
   "outputs": [
    {
     "data": {
      "text/html": [
       "<div>\n",
       "<style scoped>\n",
       "    .dataframe tbody tr th:only-of-type {\n",
       "        vertical-align: middle;\n",
       "    }\n",
       "\n",
       "    .dataframe tbody tr th {\n",
       "        vertical-align: top;\n",
       "    }\n",
       "\n",
       "    .dataframe thead th {\n",
       "        text-align: right;\n",
       "    }\n",
       "</style>\n",
       "<table border=\"1\" class=\"dataframe\">\n",
       "  <thead>\n",
       "    <tr style=\"text-align: right;\">\n",
       "      <th>isBestSeller</th>\n",
       "      <th>False</th>\n",
       "      <th>True</th>\n",
       "    </tr>\n",
       "    <tr>\n",
       "      <th>category</th>\n",
       "      <th></th>\n",
       "      <th></th>\n",
       "    </tr>\n",
       "  </thead>\n",
       "  <tbody>\n",
       "    <tr>\n",
       "      <th>3D Printers</th>\n",
       "      <td>247</td>\n",
       "      <td>1</td>\n",
       "    </tr>\n",
       "    <tr>\n",
       "      <th>3D Printing &amp; Scanning</th>\n",
       "      <td>4065</td>\n",
       "      <td>2</td>\n",
       "    </tr>\n",
       "    <tr>\n",
       "      <th>Abrasive &amp; Finishing Products</th>\n",
       "      <td>245</td>\n",
       "      <td>5</td>\n",
       "    </tr>\n",
       "    <tr>\n",
       "      <th>Action Cameras</th>\n",
       "      <td>1696</td>\n",
       "      <td>1</td>\n",
       "    </tr>\n",
       "    <tr>\n",
       "      <th>Adapters</th>\n",
       "      <td>251</td>\n",
       "      <td>3</td>\n",
       "    </tr>\n",
       "    <tr>\n",
       "      <th>...</th>\n",
       "      <td>...</td>\n",
       "      <td>...</td>\n",
       "    </tr>\n",
       "    <tr>\n",
       "      <th>Wind Instruments</th>\n",
       "      <td>243</td>\n",
       "      <td>7</td>\n",
       "    </tr>\n",
       "    <tr>\n",
       "      <th>Window Treatments</th>\n",
       "      <td>234</td>\n",
       "      <td>5</td>\n",
       "    </tr>\n",
       "    <tr>\n",
       "      <th>Women</th>\n",
       "      <td>17559</td>\n",
       "      <td>213</td>\n",
       "    </tr>\n",
       "    <tr>\n",
       "      <th>Women's Sports &amp; Outdoor Shoes</th>\n",
       "      <td>1939</td>\n",
       "      <td>20</td>\n",
       "    </tr>\n",
       "    <tr>\n",
       "      <th>eBook Readers &amp; Accessories</th>\n",
       "      <td>246</td>\n",
       "      <td>0</td>\n",
       "    </tr>\n",
       "  </tbody>\n",
       "</table>\n",
       "<p>296 rows × 2 columns</p>\n",
       "</div>"
      ],
      "text/plain": [
       "isBestSeller                    False  True \n",
       "category                                    \n",
       "3D Printers                       247      1\n",
       "3D Printing & Scanning           4065      2\n",
       "Abrasive & Finishing Products     245      5\n",
       "Action Cameras                   1696      1\n",
       "Adapters                          251      3\n",
       "...                               ...    ...\n",
       "Wind Instruments                  243      7\n",
       "Window Treatments                 234      5\n",
       "Women                           17559    213\n",
       "Women's Sports & Outdoor Shoes   1939     20\n",
       "eBook Readers & Accessories       246      0\n",
       "\n",
       "[296 rows x 2 columns]"
      ]
     },
     "execution_count": 14,
     "metadata": {},
     "output_type": "execute_result"
    }
   ],
   "source": [
    "# Part 1 Analyzing Best-Seller Trends Across Product Categories\n",
    "# Objective: Understand the relationship between product categories and their best-seller status.\n",
    "# 1. Crosstab Analysis:\n",
    "# Create a crosstab between the product category and the isBestSeller status.\n",
    "crosstab_result = pd.crosstab(df['category'], df['isBestSeller'])\n",
    "\n",
    "crosstab_result"
   ]
  },
  {
   "cell_type": "code",
   "execution_count": 17,
   "metadata": {},
   "outputs": [
    {
     "data": {
      "text/plain": [
       "category\n",
       "Grocery                             0.058135\n",
       "Smart Home Security & Lighting      0.057692\n",
       "Health & Personal Care              0.057686\n",
       "Mobile Phone Accessories            0.042471\n",
       "Power & Hand Tools                  0.035339\n",
       "                                      ...   \n",
       "CD, Disc & Tape Players             0.000000\n",
       "General Music-Making Accessories    0.000000\n",
       "Snowboard Boots                     0.000000\n",
       "Boxes & Organisers                  0.000000\n",
       "eBook Readers & Accessories         0.000000\n",
       "Length: 296, dtype: float64"
      ]
     },
     "execution_count": 17,
     "metadata": {},
     "output_type": "execute_result"
    }
   ],
   "source": [
    "# Are there categories where being a best-seller is more prevalent?\n",
    "\n",
    "# Calculate the proportion of best_sellers for each category \n",
    "prop_best_seller = crosstab_result[True] / crosstab_result.sum(axis=1)\n",
    "\n",
    "# Order the categories in descendent order based on the best-seller proportion \n",
    "prop_best_seller_sorted = prop_best_seller.sort_values(ascending=False)\n",
    "\n",
    "prop_best_seller_sorted\n"
   ]
  },
  {
   "cell_type": "markdown",
   "metadata": {},
   "source": [
    "Are there categories where being a best-seller is more prevalent?\n",
    "\n",
    "No, there are not categories where being a best-seller is more prevalent. There is not a huge difference between the proportions of one category or another. The top 3 categories where the product is a best seller have similar proportions (all arounf 0.05)."
   ]
  },
  {
   "cell_type": "code",
   "execution_count": 19,
   "metadata": {},
   "outputs": [
    {
     "data": {
      "text/plain": [
       "(36540.20270061387, 0.0)"
      ]
     },
     "execution_count": 19,
     "metadata": {},
     "output_type": "execute_result"
    }
   ],
   "source": [
    "# 2. Statistical Tests:\n",
    "# Conduct a Chi-square test to determine if the best-seller distribution is independent of the product category.\n",
    "chi2_statistic, chi2_p_value, _, _ = chi2_contingency(crosstab_result)\n",
    "\n",
    "chi2_statistic, chi2_p_value"
   ]
  },
  {
   "cell_type": "markdown",
   "metadata": {},
   "source": [
    "Determine if the best-seller distribution is independent of the product category.\n",
    "\n",
    "Because the Chi-square value is 0.0 (below than 0.5), there is a significant association between the product category and the best-seller status.\n",
    "\n"
   ]
  },
  {
   "cell_type": "code",
   "execution_count": 21,
   "metadata": {},
   "outputs": [
    {
     "data": {
      "text/plain": [
       "0.1222829439760564"
      ]
     },
     "execution_count": 21,
     "metadata": {},
     "output_type": "execute_result"
    }
   ],
   "source": [
    "# Compute Cramér's V to understand the strength of association between best-seller status and category.\n",
    "association(crosstab_result, method=\"cramer\")"
   ]
  },
  {
   "cell_type": "markdown",
   "metadata": {},
   "source": [
    "Determine the strength of association between best-seller status and category.\n",
    "\n",
    "There is a weak association between category and isBestSeller variables because the value is close to 0."
   ]
  },
  {
   "cell_type": "code",
   "execution_count": null,
   "metadata": {},
   "outputs": [],
   "source": [
    "# 3. Visualizations:\n",
    "# Visualize the relationship between product categories and the best-seller status using a stacked bar chart.\n",
    "crosstab_result.plot(kind=\"bar\", stacked=True)"
   ]
  },
  {
   "cell_type": "code",
   "execution_count": null,
   "metadata": {},
   "outputs": [],
   "source": [
    "prop_best_seller_sorted.head(5).plot(kind=\"bar\", stacked=True)\n"
   ]
  },
  {
   "cell_type": "code",
   "execution_count": 23,
   "metadata": {},
   "outputs": [],
   "source": [
    "# Part 2: Exploring Product Prices and Ratings Across Categories and Brands\n",
    "# Objective: Investigate how different product categories influence product prices.\n",
    "# 0. Preliminary Step: Remove outliers in product prices.\n",
    "def tukeys_test_outliers(column):\n",
    "    Q1 = column.quantile(0.25)\n",
    "    Q3 = column.quantile(0.75)\n",
    "    IQR = Q3 - Q1\n",
    "    \n",
    "    # Define bounds for the outliers\n",
    "    lower_bound = Q1 - 1.5 * IQR\n",
    "    upper_bound = Q3 + 1.5 * IQR\n",
    "    \n",
    "    # Identify the outliers\n",
    "    outliers = column[(column < lower_bound) | (column > upper_bound)]\n",
    "    \n",
    "    return outliers\n",
    "\n",
    "# Identificar los outliers en tus datos\n",
    "outliers = tukeys_test_outliers(df['price'])\n",
    "\n",
    "# Eliminar los outliers del DataFrame original\n",
    "df_cleaned = df[~df['price'].isin(outliers)]"
   ]
  },
  {
   "cell_type": "code",
   "execution_count": null,
   "metadata": {},
   "outputs": [],
   "source": [
    "# Violin Plots:\n",
    "# Use a violin plot to visualize the distribution of price across different product categories. Filter out the top 20 categories based on count for better visualization.\n",
    "category_counts = df_cleaned['category'].value_counts()\n",
    "top_categories_20 = category_counts.head(20)\n",
    "df_filtered = df_cleaned[df_cleaned['category'].isin(top_categories_20.index)]\n",
    "sns.violinplot(data=df_filtered, x='price', y='category', palette=\"coolwarm\")"
   ]
  },
  {
   "cell_type": "code",
   "execution_count": 40,
   "metadata": {},
   "outputs": [
    {
     "name": "stdout",
     "output_type": "stream",
     "text": [
      "Product category with the highest median price: Laptops\n",
      "Highest median price: 1042.725\n"
     ]
    }
   ],
   "source": [
    "# Which product category tends to have the highest median price? Don't filter here by top categories.\n",
    "# Calculate the median price for each category\n",
    "median_prices = df.groupby('category')['price'].median()\n",
    "\n",
    "# Identify the category with the highest median price\n",
    "category_highest_median_price = median_prices.idxmax()\n",
    "highest_median_price = median_prices.max()\n",
    "print(\"Product category with the highest median price:\", category_highest_median_price)\n",
    "print(\"Highest median price:\", highest_median_price)"
   ]
  },
  {
   "cell_type": "code",
   "execution_count": null,
   "metadata": {},
   "outputs": [],
   "source": [
    "# 2. Bar Charts:\n",
    "# Create a bar chart comparing the average price of products for the top 10 product categories (based on count).\n",
    "# Calculate the average price for each product category\n",
    "average_prices = df_cleaned.groupby('category')['price'].mean()\n",
    "\n",
    "# Select the top 10 product categories based on count\n",
    "top_categories_10 = df_cleaned['category'].value_counts().head(10).index\n",
    "\n",
    "# Filter the average prices for the top 10 categories\n",
    "top_average_prices = average_prices.loc[top_categories_10]\n",
    "\n",
    "# Step 4: Create a bar chart\n",
    "sns.barplot(x=top_average_prices.values, y=top_average_prices.index, palette=\"coolwarm\")"
   ]
  },
  {
   "cell_type": "code",
   "execution_count": 41,
   "metadata": {},
   "outputs": [
    {
     "name": "stdout",
     "output_type": "stream",
     "text": [
      "Product category with the highest average price: Laptops\n",
      "Highest average price: 1087.987826986755\n"
     ]
    }
   ],
   "source": [
    "# Which product category commands the highest average price? Don't filter here by top categories.\n",
    "# Calculate the average price for each category\n",
    "average_prices = df.groupby('category')['price'].mean()\n",
    "\n",
    "# Identify the category with the highest average price\n",
    "category_highest_avg_price = average_prices.idxmax()\n",
    "highest_avg_price = average_prices.max()\n",
    "\n",
    "print(\"Product category with the highest average price:\", category_highest_avg_price)\n",
    "print(\"Highest average price:\", highest_avg_price)"
   ]
  },
  {
   "cell_type": "code",
   "execution_count": null,
   "metadata": {},
   "outputs": [],
   "source": [
    "# 3. Box Plots:\n",
    "# Visualize the distribution of product ratings based on their category using side-by-side box plots. Filter out the top 10 categories based on count for better visualization.\n",
    "# Step 1: Filter the DataFrame to include only the top 10 categories based on count\n",
    "top_categories_10 = df_cleaned['category'].value_counts().head(10).index\n",
    "df_filtered_2 = df_cleaned[df_cleaned['category'].isin(top_categories_10)]\n",
    "\n",
    "# Step 2: Create side-by-side box plots for the ratings of products in each of these categories\n",
    "sns.boxplot(data=df_filtered_2, x='stars', y='category', palette=\"Set3\")"
   ]
  },
  {
   "cell_type": "code",
   "execution_count": 45,
   "metadata": {},
   "outputs": [
    {
     "name": "stdout",
     "output_type": "stream",
     "text": [
      "Category with the highest median rating: Computer Memory\n",
      "Highest median rating: 4.7\n"
     ]
    }
   ],
   "source": [
    "# Which category tends to receive the highest median rating from customers? Don't filter here by top categories.\n",
    "# Calculate the median rating for each category\n",
    "median_ratings = df.groupby('category')['stars'].median()\n",
    "\n",
    "# Identify the category with the highest median rating\n",
    "category_highest_median_rating = median_ratings.idxmax()\n",
    "highest_median_rating = median_ratings.max()\n",
    "\n",
    "print(\"Category with the highest median rating:\", category_highest_median_rating)\n",
    "print(\"Highest median rating:\", highest_median_rating)"
   ]
  },
  {
   "cell_type": "code",
   "execution_count": 49,
   "metadata": {},
   "outputs": [
    {
     "name": "stdout",
     "output_type": "stream",
     "text": [
      "Correlation coefficient between price and stars: -0.12490673262148386\n"
     ]
    }
   ],
   "source": [
    "# Part 3: Investigating the Interplay Between Product Prices and Ratings\n",
    "# Objective: Analyze how product ratings (stars) correlate with product prices.\n",
    "# 1. Correlation Coefficients:\n",
    "# Calculate the correlation coefficient between price and stars\n",
    "correlation_coefficient = df['price'].corr(df['stars'])\n",
    "\n",
    "print(\"Correlation coefficient between price and stars:\", correlation_coefficient)\n",
    "\n"
   ]
  },
  {
   "cell_type": "markdown",
   "metadata": {},
   "source": [
    "The correlation between product prices and ratings is weak. This means that there is a slight tendency for higher-priced products to have slightly lower ratings, and vice versa, but the relationship is not very strong."
   ]
  },
  {
   "cell_type": "code",
   "execution_count": null,
   "metadata": {},
   "outputs": [],
   "source": [
    "# 2. Visualizations:\n",
    "# Use a scatter plot to visualize the relationship between product rating and price. What patterns can you observe?\n",
    "sns.scatterplot(data=df, x='stars', y='price')"
   ]
  },
  {
   "cell_type": "code",
   "execution_count": null,
   "metadata": {},
   "outputs": [],
   "source": [
    "# Use a correlation heatmap to visualize correlations between all numerical variables.\n",
    "# Seleccionar solo las columnas numéricas del DataFrame\n",
    "df_numerical = df.select_dtypes(include=['int64', 'float64'])\n",
    "\n",
    "# Calcular la matriz de correlación para las variables numéricas\n",
    "correlation_matrix = df_numerical.corr()\n",
    "\n",
    "# Configurar la figura de matplotlib con un tamaño adecuado\n",
    "plt.figure(figsize=(18, 15))\n",
    "\n",
    "# Dibujar el heatmap para las columnas numéricas\n",
    "sns.heatmap(correlation_matrix, annot=True, cmap=\"coolwarm\")\n",
    "\n",
    "plt.title(\"Correlation Heatmap for Numerical Variables\")\n",
    "plt.show()"
   ]
  },
  {
   "cell_type": "code",
   "execution_count": null,
   "metadata": {},
   "outputs": [],
   "source": [
    "# Examine if product prices typically follow a normal distribution using a QQ plot.\n",
    "# Crear el gráfico QQ plot\n",
    "sm.qqplot(df['price'], line ='45')\n",
    "\n",
    "\n",
    "plt.title(\"QQ Plot for Product Prices\")\n",
    "plt.xlabel(\"Theoretical Quantiles\")\n",
    "plt.ylabel(\"Sample Quantiles\")\n",
    "plt.show()"
   ]
  },
  {
   "cell_type": "code",
   "execution_count": null,
   "metadata": {},
   "outputs": [],
   "source": []
  }
 ],
 "metadata": {
  "kernelspec": {
   "display_name": "base",
   "language": "python",
   "name": "python3"
  },
  "language_info": {
   "codemirror_mode": {
    "name": "ipython",
    "version": 3
   },
   "file_extension": ".py",
   "mimetype": "text/x-python",
   "name": "python",
   "nbconvert_exporter": "python",
   "pygments_lexer": "ipython3",
   "version": "3.11.5"
  }
 },
 "nbformat": 4,
 "nbformat_minor": 2
}
